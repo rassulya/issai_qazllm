{
 "cells": [
  {
   "cell_type": "code",
   "execution_count": 1,
   "metadata": {},
   "outputs": [
    {
     "name": "stderr",
     "output_type": "stream",
     "text": [
      "/root/anaconda3/envs/modern_tune/lib/python3.12/site-packages/tqdm/auto.py:21: TqdmWarning: IProgress not found. Please update jupyter and ipywidgets. See https://ipywidgets.readthedocs.io/en/stable/user_install.html\n",
      "  from .autonotebook import tqdm as notebook_tqdm\n"
     ]
    }
   ],
   "source": [
    "from datasets import load_dataset, concatenate_datasets, Features, Value\n",
    "from huggingface_hub import HfApi, login, Repository\n",
    "import json\n",
    "import os\n",
    "import gzip\n",
    "import numpy as np\n",
    "import pandas as pd\n",
    "from tqdm import tqdm\n",
    "\n",
    "def verify_json_format(file_path):\n",
    "    try:\n",
    "        with open(file_path, 'r') as file:\n",
    "            # read file line by line\n",
    "            for line in file:\n",
    "                try:\n",
    "                    # parse line as json object\n",
    "                    data = json.loads(line)\n",
    "                    \n",
    "                    # check parsed object is dictionary\n",
    "                    if not isinstance(data, dict):\n",
    "                        print(f\"Invalid format: {line.strip()} - Not a dictionary.\")\n",
    "                        return False\n",
    "                    \n",
    "                    # verify dictionary contains 'text' key and value is string\n",
    "                    if 'text' not in data or not isinstance(data['text'], str):\n",
    "                        print(f\"Invalid format: {line.strip()} - Missing 'text' key or value is not a string.\")\n",
    "                        return False\n",
    "                except json.JSONDecodeError:\n",
    "                    # handle json parsing errors\n",
    "                    print(f\"Invalid JSON: {line.strip()}\")\n",
    "                    return False\n",
    "        \n",
    "        # if all lines correct, print success message\n",
    "        print(\"The file is in the correct format.\")\n",
    "        return True\n",
    "    \n",
    "    except FileNotFoundError:\n",
    "        # handle case where file does not exist\n",
    "        print(f\"File not found: {file_path}\")\n",
    "        return False"
   ]
  },
  {
   "cell_type": "code",
   "execution_count": null,
   "metadata": {},
   "outputs": [],
   "source": [
    "login(token = \"\", add_to_git_credential = False) # dont change\n",
    "\n",
    "# define general repository details\n",
    "repo_id = \"\" # dont change\n",
    "\n",
    "# initialise HfApi\n",
    "api = HfApi()"
   ]
  },
  {
   "cell_type": "code",
   "execution_count": 3,
   "metadata": {},
   "outputs": [
    {
     "name": "stdout",
     "output_type": "stream",
     "text": [
      "2\n"
     ]
    },
    {
     "data": {
      "text/plain": [
       "['akylbekmaxutov/2024.10.29_instruct_ru_benchmark-mmlu_mcq_all_23601662.json.gz',\n",
       " 'akylbekmaxutov/2024.10.29_instruct_tr_benchmark-mmlu_mcq_all_20117290.json.gz']"
      ]
     },
     "execution_count": 3,
     "metadata": {},
     "output_type": "execute_result"
    }
   ],
   "source": [
    "files_ot = sorted([file for file in api.list_repo_files(repo_id = repo_id, repo_type = \"dataset\") if 'akylbekmaxutov' in file and 'mcq_all' in file])\n",
    "print(len(files_ot))\n",
    "files_ot"
   ]
  },
  {
   "cell_type": "code",
   "execution_count": null,
   "metadata": {},
   "outputs": [
    {
     "name": "stderr",
     "output_type": "stream",
     "text": [
      "Generating train split: 84000 examples [00:04, 17919.25 examples/s]\n",
      "Creating json from Arrow format: 100%|██████████| 84/84 [00:05<00:00, 15.17ba/s]\n",
      "Generating train split: 84000 examples [00:01, 48416.59 examples/s]\n",
      "Creating json from Arrow format: 100%|██████████| 84/84 [00:02<00:00, 32.19ba/s]\n"
     ]
    }
   ],
   "source": [
    "path = \"\"\n",
    "\n",
    "for file in files_ot:\n",
    "    file_to_save = file.split('/')[-1].replace(\".json.gz\", \".json\")\n",
    "    dataset = load_dataset(repo_id, data_files=file, split=\"train\")\n",
    "    dataset_final = dataset.select_columns(['instruction', 'input', 'output'])\n",
    "    path_to_save = f\"{path}/{file_to_save}\"\n",
    "    dataset_final.to_json(path_to_save, lines=True, force_ascii=False)"
   ]
  },
  {
   "cell_type": "code",
   "execution_count": null,
   "metadata": {},
   "outputs": [
    {
     "name": "stderr",
     "output_type": "stream",
     "text": [
      "Generating train split: 3733709 examples [06:39, 9341.45 examples/s]\n"
     ]
    }
   ],
   "source": [
    "dataset = load_dataset(repo_id, data_files=\"\", split=\"train\")"
   ]
  },
  {
   "cell_type": "code",
   "execution_count": 8,
   "metadata": {},
   "outputs": [
    {
     "name": "stdout",
     "output_type": "stream",
     "text": [
      "Түркияда жер сілкінді. Түріктің Анкара провинциясында магнитудасы 4,2 жер сілкінісі болды. Бұл туралы Haber Turk телеарнасы хабарлады.\n",
      "Оқыс оқиғаның жай-жапсары айтылмай отыр. Қаза тапқандар мен қирандылар жөнінде мәлімет түскен жоқ.\n",
      " \n",
      "ҚазАқпарат\n"
     ]
    }
   ],
   "source": [
    "print(dataset[0][\"text\"])"
   ]
  }
 ],
 "metadata": {
  "kernelspec": {
   "display_name": "modern_tune",
   "language": "python",
   "name": "python3"
  },
  "language_info": {
   "codemirror_mode": {
    "name": "ipython",
    "version": 3
   },
   "file_extension": ".py",
   "mimetype": "text/x-python",
   "name": "python",
   "nbconvert_exporter": "python",
   "pygments_lexer": "ipython3",
   "version": "3.12.7"
  }
 },
 "nbformat": 4,
 "nbformat_minor": 2
}
